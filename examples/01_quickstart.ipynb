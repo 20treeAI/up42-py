{
 "cells": [
  {
   "cell_type": "markdown",
   "metadata": {},
   "source": [
    "# Quickstart"
   ]
  },
  {
   "cell_type": "code",
   "execution_count": null,
   "metadata": {},
   "outputs": [],
   "source": [
    "%load_ext autoreload\n",
    "%autoreload 2\n",
    "\n",
    "import up42"
   ]
  },
  {
   "cell_type": "markdown",
   "metadata": {},
   "source": [
    "## API-Structure\n",
    "\n",
    "- The Python Api uses seven object classes, representing the **hierachical structure** of UP42: **Api > Project > Workflow > Job > JobTask** and **Catalog & Tools**.\n",
    "- Each object provides the full functionality at that specific level and can spawn elements of one level below, e.g.\n",
    "    - `workflow = Project().create_workflow()`\n",
    "    - `job = workflow.create_and_run_job()`\n",
    "<br> \n",
    "- Usually the user starts with the *Api* object, then spawns objects of a lower level (e.g. initializes a project, creates a new workflow, runs a job etc.). \n",
    "- In some cases you might want to access a lower level object directly, e.g. a job that was already run on UP42. Then you can can directly initiate that job object via its job-id."
   ]
  },
  {
   "cell_type": "markdown",
   "metadata": {},
   "source": [
    "## 30 seconds example\n",
    "\n",
    "Runs a workflow consisting of Sentinel-2 Streaming and image sharpening."
   ]
  },
  {
   "cell_type": "code",
   "execution_count": null,
   "metadata": {},
   "outputs": [],
   "source": [
    "# Authentificate: Gets the the project credentials saved in the config.json file.\n",
    "api = up42.Api(cfg_file=\"config.json\")\n",
    "project = api.initialize_project()"
   ]
  },
  {
   "cell_type": "code",
   "execution_count": null,
   "metadata": {},
   "outputs": [],
   "source": [
    "api.get_blocks()"
   ]
  },
  {
   "cell_type": "code",
   "execution_count": null,
   "metadata": {},
   "outputs": [],
   "source": [
    "# Create a workflow & add blocks/tasks to the workflow.\n",
    "workflow = project.create_workflow(name=\"30-seconds-workflow\", use_existing=True)\n",
    "blocks = api.get_blocks(basic=True)\n",
    "input_tasks= [blocks['sobloo-s2-l1c-aoiclipped'], \n",
    "              blocks['sharpening']]\n",
    "workflow.add_workflow_tasks(input_tasks=input_tasks)"
   ]
  },
  {
   "cell_type": "code",
   "execution_count": null,
   "metadata": {},
   "outputs": [],
   "source": [
    "# Define the aoi and input parameters of the workflow to run it.\n",
    "aoi = workflow.read_vector_file(\"data/aoi_berlin.geojson\", as_dataframe=True)\n",
    "input_parameters = workflow.construct_parameter(geometry=aoi, \n",
    "                                                geometry_operation=\"bbox\", \n",
    "                                                start_date=\"2020-01-01\",\n",
    "                                                end_date=\"2020-01-03\",\n",
    "                                                limit=1)\n",
    "print(input_parameters)"
   ]
  },
  {
   "cell_type": "code",
   "execution_count": null,
   "metadata": {},
   "outputs": [],
   "source": [
    "# Run the workflow as a job\n",
    "job = workflow.create_and_run_job(input_parameters=input_parameters)\n",
    "job.track_status()"
   ]
  },
  {
   "cell_type": "code",
   "execution_count": null,
   "metadata": {},
   "outputs": [],
   "source": [
    "# Plot the scene quicklooks.\n",
    "job.download_quicklook()\n",
    "job.plot_quicklook()"
   ]
  },
  {
   "cell_type": "code",
   "execution_count": null,
   "metadata": {},
   "outputs": [],
   "source": [
    "# Plot & analyse the results.\n",
    "results_fp = job.download_result()\n",
    "print(results_fp)"
   ]
  },
  {
   "cell_type": "code",
   "execution_count": null,
   "metadata": {},
   "outputs": [],
   "source": [
    "job.plot_result()"
   ]
  },
  {
   "cell_type": "code",
   "execution_count": null,
   "metadata": {},
   "outputs": [],
   "source": [
    "job.map_result()"
   ]
  },
  {
   "cell_type": "markdown",
   "metadata": {},
   "source": [
    "## Objects\n",
    "\n",
    "The following section gives an overview of the required parameters to initiate each object, and the available functions at each level."
   ]
  },
  {
   "cell_type": "markdown",
   "metadata": {},
   "source": [
    "### Api"
   ]
  },
  {
   "cell_type": "markdown",
   "metadata": {},
   "source": [
    "Example functions: `.get_blocks`, `.get_block_details`, `.delete_custom_block`, `.validate_manifest`, `.initialize_project`"
   ]
  },
  {
   "cell_type": "code",
   "execution_count": null,
   "metadata": {},
   "outputs": [],
   "source": [
    "api = up42.Api(cfg_file=\"config.json\")\n",
    "api"
   ]
  },
  {
   "cell_type": "markdown",
   "metadata": {},
   "source": [
    "### Project\n",
    "\n",
    "Example functions: `.get_workflows`, `.create_workflow`, `.get_project_settings`, `.update_project_settings`,`.update_project_settings`, `.get_project_api_key`"
   ]
  },
  {
   "cell_type": "code",
   "execution_count": null,
   "metadata": {},
   "outputs": [],
   "source": [
    "UP42_PROJECT_ID=\"8956d18d-33bc-47cb-93bd-0055ff21da8f\" \n",
    "\n",
    "up42.Project(api=api,\n",
    "             project_id=UP42_PROJECT_ID)"
   ]
  },
  {
   "cell_type": "markdown",
   "metadata": {},
   "source": [
    "### Workflow\n",
    "\n",
    "Example functions: `.add_workflow_tasks`, `.get_parameters_info`, `.construct_parameters`, `.get_jobs`, `.create_and_run_job`, `.get_workflow_tasks`, `.add_workflow_tasks`, `.update_workflow`, `.delete_workflow`, `.update_name`, `.delete`"
   ]
  },
  {
   "cell_type": "markdown",
   "metadata": {},
   "source": [
    "Alltough most often used from the workflow object, a few generic aoi functions are useable with every object: `.get_example_aoi`, `.draw_aoi`, `.read_vector_file`"
   ]
  },
  {
   "cell_type": "code",
   "execution_count": null,
   "metadata": {},
   "outputs": [],
   "source": [
    "UP42_WORKFLOW_ID=\"7fb2ec8a-45be-41ad-a50f-98ba6b528b98\"\n",
    "\n",
    "up42.Workflow(api, \n",
    "              project_id=api.project_id, \n",
    "              workflow_id=UP42_WORKFLOW_ID)"
   ]
  },
  {
   "cell_type": "markdown",
   "metadata": {},
   "source": [
    "### Job\n",
    "\n",
    "Example functions: `.get_status`, `.track_status`, `.rerun_job`, `.cancel_job`, `.get_results`, `.get_logs`, `.get_quicklook`, `.download_results`, `.plot_results`, `.map_results`, `.upload_results_to_bucket`, `.get_job_tasks`, `.get_job_tasks_results`"
   ]
  },
  {
   "cell_type": "code",
   "execution_count": null,
   "metadata": {},
   "outputs": [],
   "source": [
    "UP42_JOB_ID=\"de5806aa-5ef1-4dc9-ab1d-06d7ec1a5021\"\n",
    "\n",
    "up42.Job(job_id=UP42_JOB_ID, \n",
    "         project_id=UP42_PROJECT_ID,\n",
    "         api=api)"
   ]
  },
  {
   "cell_type": "markdown",
   "metadata": {},
   "source": [
    "### JobTask"
   ]
  },
  {
   "cell_type": "markdown",
   "metadata": {},
   "source": [
    "Example functions: `.get_result_json`, `.download_results`, `.get_quicklooks`"
   ]
  },
  {
   "cell_type": "code",
   "execution_count": null,
   "metadata": {},
   "outputs": [],
   "source": [
    "UP42_JOBTASK_ID=\"3f772637-09aa-4164-bded-692fcd746d20\"\n",
    "\n",
    "up42.JobTask(job_task_id=UP42_JOBTASK_ID,\n",
    "             job_id=UP42_JOB_ID,\n",
    "             project_id=UP42_PROJECT_ID,\n",
    "             api=api)"
   ]
  },
  {
   "cell_type": "markdown",
   "metadata": {},
   "source": [
    "### Catalog\n",
    "\n",
    "Example functions: `.construct_parameters`, `.search`, `.get_quicklooks`"
   ]
  },
  {
   "cell_type": "code",
   "execution_count": null,
   "metadata": {},
   "outputs": [],
   "source": [
    "catalog = up42.Catalog(api=api, \n",
    "                       backend=\"ONE_ATLAS\")\n",
    "catalog"
   ]
  },
  {
   "cell_type": "code",
   "execution_count": null,
   "metadata": {},
   "outputs": [],
   "source": []
  }
 ],
 "metadata": {
  "kernelspec": {
   "display_name": "up42-py",
   "language": "python",
   "name": "up42-py"
  },
  "language_info": {
   "codemirror_mode": {
    "name": "ipython",
    "version": 3
   },
   "file_extension": ".py",
   "mimetype": "text/x-python",
   "name": "python",
   "nbconvert_exporter": "python",
   "pygments_lexer": "ipython3",
   "version": "3.7.4"
  }
 },
 "nbformat": 4,
 "nbformat_minor": 4
}
