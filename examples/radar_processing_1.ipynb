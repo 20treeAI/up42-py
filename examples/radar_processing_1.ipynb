{
 "cells": [
  {
   "cell_type": "markdown",
   "metadata": {},
   "source": [
    "# Example: Radar processing\n",
    "\n",
    "The processing of radar data - often referred to as SAR data, which stands for Sythetice Aperture Radar - is a topic of its own and quite different from optical data that uses Red, Green, Blue, NIR and similar bands.\n",
    "This is the first of a series of jupyter notebooks where example SAR workflows will be explained that can be run on UP42.\n",
    "All of the examples are based on a specific type of analysis which is called polarimetry and processes one image at a time.\n",
    "In comparison to polarimetric there also is interferometric analysis which leverages the information encoded in suitable pairs of radar image. \n",
    "\n",
    "In this notebook we want to have a look at the Sentinel-1 GRD full scene block, followed by SNAP Sentinel-1 Polarimetric Processing.\n",
    "\n",
    " - Prepare workflow\n",
    " - Define aoi and input parameters\n",
    " - Run Job\n",
    " - Visualize results"
   ]
  },
  {
   "cell_type": "code",
   "execution_count": null,
   "metadata": {},
   "outputs": [],
   "source": [
    "import up42"
   ]
  },
  {
   "cell_type": "code",
   "execution_count": null,
   "metadata": {},
   "outputs": [],
   "source": [
    "# Authenticate with UP42\n",
    "up42.authenticate(cfg_file=\"config.json\", env=\"dev\")\n",
    "#up42.authenticate(project_id=12345, project_api_key=12345)"
   ]
  },
  {
   "cell_type": "markdown",
   "metadata": {},
   "source": [
    "## Prepare UP42 workflows\n",
    "\n",
    "Create a new project on UP42 or use an existing one."
   ]
  },
  {
   "cell_type": "code",
   "execution_count": null,
   "metadata": {},
   "outputs": [],
   "source": [
    "project = up42.initialize_project()\n",
    "S1_SNAP_project = up42.initialize_project()\n",
    "project"
   ]
  },
  {
   "cell_type": "markdown",
   "metadata": {},
   "source": [
    "Create workflow and check available blocks and data"
   ]
  },
  {
   "cell_type": "code",
   "execution_count": null,
   "metadata": {},
   "outputs": [],
   "source": [
    "workflow = S1_SNAP_project.create_workflow(name=\"S1-GRD_SNAP\", \n",
    "                                   use_existing=True)\n",
    "print(up42.get_blocks(basic=True))"
   ]
  },
  {
   "cell_type": "code",
   "execution_count": null,
   "metadata": {},
   "outputs": [],
   "source": [
    "# Fill the workflow with tasks\n",
    "input_tasks= ['sobloo-s1-grd-fullscene', 'snap-polarimetric']\n",
    "workflow.add_workflow_tasks(input_tasks=input_tasks)\n",
    "workflow.get_parameters_info()"
   ]
  },
  {
   "cell_type": "markdown",
   "metadata": {},
   "source": [
    "## Define aoi and input parameters "
   ]
  },
  {
   "cell_type": "code",
   "execution_count": null,
   "metadata": {},
   "outputs": [],
   "source": [
    "input_parameters = {\n",
    "  \"sobloo-s1-grd-fullscene:1\": {\n",
    "    \"bbox\": [13.371037, 52.512799, 13.382624, 52.518747],\n",
    "    \"ids\": None,\n",
    "    \"time\": \"2018-01-01T00:00:00+00:00/2020-12-31T23:59:59+00:00\",\n",
    "    \"limit\": 1,\n",
    "    \"zoom_level\": 14,\n",
    "  },\n",
    "    \"snap-polarimetric:1\": {\n",
    "    \"bbox\": [13.371037, 52.512799, 13.382624, 52.518747],\n",
    "    \"mask\": None,\n",
    "    \"contains\": None,\n",
    "    \"intersects\": None,\n",
    "    \"clip_to_aoi\": True,\n",
    "    \"tcorrection\": True,\n",
    "    \"linear_to_db\": True,\n",
    "    \"polarisations\": [\n",
    "        \"VV\"\n",
    "   ],\n",
    "   \"speckle_filter\": True,\n",
    "   \"calibration_band\": [\n",
    "         \"sigma\"\n",
    "   ]\n",
    "  }\n",
    "}"
   ]
  },
  {
   "cell_type": "markdown",
   "metadata": {},
   "source": [
    "## Run test query\n",
    "Run a test job to query data availability and check the configuration."
   ]
  },
  {
   "cell_type": "code",
   "execution_count": null,
   "metadata": {},
   "outputs": [],
   "source": [
    "test_job = workflow.test_job(input_parameters=input_parameters, track_status=True)\n",
    "test_results = test_job.get_results_json()\n",
    "print(test_results)"
   ]
  },
  {
   "cell_type": "markdown",
   "metadata": {},
   "source": [
    "## Run the job"
   ]
  },
  {
   "cell_type": "code",
   "execution_count": null,
   "metadata": {},
   "outputs": [],
   "source": [
    "job = workflow.run_job(input_parameters=input_parameters, track_status=True)"
   ]
  },
  {
   "cell_type": "markdown",
   "metadata": {},
   "source": [
    "## Visualize the results"
   ]
  },
  {
   "cell_type": "code",
   "execution_count": null,
   "metadata": {},
   "outputs": [],
   "source": [
    "# Download results:\n",
    "job.download_results()\n",
    "\n",
    "# Visualize downloaded results\n",
    "job.plot_results()"
   ]
  }
 ],
 "metadata": {
  "kernelspec": {
   "display_name": "Python 3",
   "language": "python",
   "name": "python3"
  },
  "language_info": {
   "codemirror_mode": {
    "name": "ipython",
    "version": 3
   },
   "file_extension": ".py",
   "mimetype": "text/x-python",
   "name": "python",
   "nbconvert_exporter": "python",
   "pygments_lexer": "ipython3",
   "version": "3.7.5rc1"
  }
 },
 "nbformat": 4,
 "nbformat_minor": 4
}
