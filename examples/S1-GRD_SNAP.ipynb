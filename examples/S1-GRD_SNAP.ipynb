{
 "cells": [
  {
   "cell_type": "code",
   "execution_count": 1,
   "metadata": {},
   "outputs": [],
   "source": [
    "import up42"
   ]
  },
  {
   "cell_type": "code",
   "execution_count": 2,
   "metadata": {},
   "outputs": [
    {
     "name": "stderr",
     "output_type": "stream",
     "text": [
      "2020-05-13 18:41:00,031 - up42.auth - INFO - Got credentials from config file.\n",
      "2020-05-13 18:41:00,370 - up42.auth - INFO - Authentication with UP42 successful!\n"
     ]
    }
   ],
   "source": [
    "up42.authenticate(cfg_file=\"config.json\", env=\"dev\")"
   ]
  },
  {
   "cell_type": "code",
   "execution_count": 3,
   "metadata": {},
   "outputs": [
    {
     "name": "stderr",
     "output_type": "stream",
     "text": [
      "2020-05-13 18:41:15,963 - up42 - INFO - Working on Project with project_id 83401f4f-f0f0-441f-92ae-a8b7ac5ce0b1\n",
      "2020-05-13 18:41:16,454 - up42 - INFO - Working on Project with project_id 83401f4f-f0f0-441f-92ae-a8b7ac5ce0b1\n"
     ]
    },
    {
     "data": {
      "text/plain": [
       "Project(project_id=83401f4f-f0f0-441f-92ae-a8b7ac5ce0b1, auth=UP42ProjectAuth(project_id=83401f4f-f0f0-441f-92ae-a8b7ac5ce0b1, env=dev), info={'id': '83401f4f-f0f0-441f-92ae-a8b7ac5ce0b1', 'displayId': '83401f4f', 'createdAt': '2020-05-05T11:33:04.895Z', 'updatedAt': '2020-05-05T11:33:04.895Z', 'name': 'Test Onboarding', 'description': ''})"
      ]
     },
     "execution_count": 3,
     "metadata": {},
     "output_type": "execute_result"
    }
   ],
   "source": [
    "project = up42.initialize_project()\n",
    "S1_SNAP_project = up42.initialize_project()\n",
    "project"
   ]
  },
  {
   "cell_type": "code",
   "execution_count": 4,
   "metadata": {},
   "outputs": [
    {
     "name": "stderr",
     "output_type": "stream",
     "text": [
      "2020-05-13 18:41:17,539 - up42.project - INFO - Getting existing workflows in project ...\n",
      "2020-05-13 18:41:18,038 - up42.project - INFO - Got 3 workflows for project 83401f4f-f0f0-441f-92ae-a8b7ac5ce0b1.\n",
      "100%|██████████| 3/3 [00:01<00:00,  2.08it/s]\n",
      "2020-05-13 18:41:19,491 - up42.project - INFO - Using existing workflow: S1-GRD_SNAP, f721e66c-52be-43ce-b8b6-2ff6f3c2cc1c.\n",
      "2020-05-13 18:41:20,230 - up42.tools - INFO - Getting blocks name and id, use basic=False for all block details.\n"
     ]
    },
    {
     "name": "stdout",
     "output_type": "stream",
     "text": [
      "{'tiling': 'd350aa0b-ac31-4021-bbe6-fd8da366740a', 'oneatlas-spot-aoiclipped': '0f15e07f-efcc-4598-939b-18aade349c57', 'oneatlas-pleiades-aoiclipped': 'f026874d-e95e-4293-b811-7667130e054d', 'sobloo-s1-grd-fullscene': '4524e2de-c780-488d-9818-fe68dad9f095', 'sobloo-s2-l1c-fullscene': '604988cb-8252-4161-bf28-f6fb63d7371c', 'snap-polarimetric': '320158d6-8f93-4484-a828-e1fb64f677ff', 'sentinelhub-s2-aoiclipped': 'c4758545-4b74-4318-ae1f-d5ba72f234ca', 'sentinelhub-landsat8-aoiclipped': 'e0b133ae-7b9c-435c-99ac-c4527cc8d9cf', 'sobloo-s1-slc-fullscene': 'cf822545-c73c-467b-8f43-5311dbefe03f', 'nasa-modis': '61279eb8-02e1-4b7a-ac3d-1f62d19d3484', 's2-superresolution': '4872fef8-aec8-4dec-adcb-560ee4430a2b', 'oneatlas-pleiades-fullscene': '8487adcd-a4d7-4cb7-b826-75a533e1f330', 'oneatlas-spot-fullscene': 'aa62113f-0dd1-40a3-a004-954c9d087071', 'data-conversion': '470eedda-5f62-433c-8562-98eb8783af87', 'pansharpen': '2f24c662-c129-409f-a7c3-afa16a4c78cb', 'sobloo-s1-grd-aoiclipped': 'a956166f-c0ed-4670-8a43-87bed8d222f3', 'ndvi': 'aecb81ef-1c92-4b2e-aa25-55ccebe2f90a', 'sobloo-s2-l1c-aoiclipped': 'a2daaab4-196d-4226-a018-a810444dcad1', 'sobloo-s3': 'fee13ec1-a067-4d6a-95dc-a4fef458f4f4', 'sobloo-s5p': 'cba7c59b-548d-48bf-8920-c20d7d316dfd', 'kmeans-clustering': 'adf21e0a-98bf-41a9-a2cc-a59898a461ba', 'vectorising': '295bf286-0748-474f-aa38-c1ac35151204', 'crs-conversion': '18e6772f-cf33-4955-b7e4-61df8a108fd9', 'sharpening': '4ed70368-d4e1-4462-bef6-14e768049471', 'zonal-statistics': 'a5b8b938-6fd6-4bac-92cd-dffd7f3169aa', 'superresolution': '6c914299-7203-40ad-9b89-de0b4e827bd0', 's5p-lvl3': '9a593e06-eca0-49e0-8b8c-6fe95f699f9d', 'hexagon-aerial-30cm': '0b04d9f7-3a8e-4467-9fb8-1e8343c9469a', 'hexagon-aerial-15cm': '36fe7d3a-4671-424b-bd54-918dd21cfde1', 'ship-identification': '20a3bd1e-3f27-40cf-9915-8fa3d5024ade', 'ais-hvp': '7394287a-2458-4204-be62-36b6d264bcfe', 'ais-hvt': '67eb1763-abeb-4188-b135-f6a0d669d759', 'meteomatics': 'ed0beedb-111b-4285-aa2d-f876a4c16a32', 'oneatlas-pleiades-primary': 'd1e5e0de-71fa-4488-9c0e-3f22ac74a2b6', 'tiled-k-means': '45c0284a-5cd7-4bc0-9d6c-db05f7271036', 'data-conversion-netcdf': 'c358d5af-7819-4ecf-b8b3-629d5d3ba319', 'data-conversion-dimap': '25f42430-d108-4ea4-a81d-2c2b3fff7d11', 'aws-s2-l2a': '73f1b9e0-83de-4cbd-addf-5e0d23ed65d4'}\n"
     ]
    }
   ],
   "source": [
    "# Create workflow and check available blocks and data\n",
    "workflow = S1_SNAP_project.create_workflow(name=\"S1-GRD_SNAP\", \n",
    "                                   use_existing=True)\n",
    "print(up42.get_blocks(basic=True))"
   ]
  },
  {
   "cell_type": "code",
   "execution_count": 5,
   "metadata": {},
   "outputs": [
    {
     "name": "stderr",
     "output_type": "stream",
     "text": [
      "2020-05-13 18:41:22,399 - up42.workflow - INFO - Added tasks to workflow: [{'name': 'sobloo-s1-grd-fullscene:1', 'parentName': None, 'blockId': '4524e2de-c780-488d-9818-fe68dad9f095'}, {'name': 'snap-polarimetric:1', 'parentName': 'sobloo-s1-grd-fullscene:1', 'blockId': '320158d6-8f93-4484-a828-e1fb64f677ff'}]\n",
      "2020-05-13 18:41:22,956 - up42.workflow - INFO - Got 2 tasks/blocks in workflow f721e66c-52be-43ce-b8b6-2ff6f3c2cc1c.\n"
     ]
    },
    {
     "data": {
      "text/plain": [
       "{'sobloo-s1-grd-fullscene:1': {'ids': {'type': 'array', 'default': None},\n",
       "  'bbox': {'type': 'array', 'default': None},\n",
       "  'time': {'type': 'dateRange',\n",
       "   'default': '2018-01-01T00:00:00+00:00/2020-12-31T23:59:59+00:00'},\n",
       "  'limit': {'type': 'integer', 'default': 1, 'minimum': 1},\n",
       "  'contains': {'type': 'geometry'},\n",
       "  'intersects': {'type': 'geometry'},\n",
       "  'time_series': {'type': 'array', 'default': None},\n",
       "  'orbit_direction': {'type': 'string', 'default': None},\n",
       "  'acquisition_mode': {'type': 'string', 'default': None}},\n",
       " 'snap-polarimetric:1': {'bbox': {'type': 'array', 'default': None},\n",
       "  'mask': {'type': 'array',\n",
       "   'items': {'enum': ['land', 'sea'], 'type': 'string'},\n",
       "   'default': None},\n",
       "  'contains': {'type': 'geometry', 'default': None},\n",
       "  'intersects': {'type': 'geometry', 'default': None},\n",
       "  'clip_to_aoi': {'type': 'boolean', 'default': False},\n",
       "  'tcorrection': {'type': 'boolean', 'default': True},\n",
       "  'linear_to_db': {'type': 'boolean', 'default': True},\n",
       "  'polarisations': {'type': 'array',\n",
       "   'items': {'enum': ['VV', 'VH'], 'type': 'string'},\n",
       "   'default': ['VV'],\n",
       "   'required': False,\n",
       "   'description': 'Requested polarisations for the output'},\n",
       "  'speckle_filter': {'type': 'boolean', 'default': True},\n",
       "  'calibration_band': {'type': 'array', 'default': ['sigma']}}}"
      ]
     },
     "execution_count": 5,
     "metadata": {},
     "output_type": "execute_result"
    }
   ],
   "source": [
    "input_tasks= ['sobloo-s1-grd-fullscene', 'snap-polarimetric']\n",
    "workflow.add_workflow_tasks(input_tasks=input_tasks)\n",
    "workflow.get_parameters_info()"
   ]
  },
  {
   "cell_type": "code",
   "execution_count": 6,
   "metadata": {},
   "outputs": [
    {
     "data": {
      "text/plain": [
       "{'sobloo-s1-grd-fullscene:1': {'bbox': [13.375966,\n",
       "   52.515068,\n",
       "   13.378314,\n",
       "   52.516639],\n",
       "  'ids': None,\n",
       "  'time': '2018-01-01T00:00:00+00:00/2020-12-31T23:59:59+00:00',\n",
       "  'limit': 1,\n",
       "  'zoom_level': 14},\n",
       " 'snap-polarimetric:1': {'bbox': [13.375966, 52.515068, 13.378314, 52.516639],\n",
       "  'mask': None,\n",
       "  'contains': None,\n",
       "  'intersects': None,\n",
       "  'clip_to_aoi': True,\n",
       "  'tcorrection': True,\n",
       "  'linear_to_db': True,\n",
       "  'polarisations': ['VV'],\n",
       "  'speckle_filter': True,\n",
       "  'calibration_band': ['sigma']}}"
      ]
     },
     "execution_count": 6,
     "metadata": {},
     "output_type": "execute_result"
    }
   ],
   "source": [
    "# Define the aoi (get_example_aoi) and input parameters of the workflow to run it.\n",
    "#aoi = [13.375966, 52.515068, 13.378314, 52.516639]\n",
    "\n",
    "input_parameters = {\n",
    "  \"sobloo-s1-grd-fullscene:1\": {\n",
    "    \"bbox\": [13.375966, 52.515068, 13.378314, 52.516639],\n",
    "    \"ids\": None,\n",
    "    \"time\": \"2018-01-01T00:00:00+00:00/2020-12-31T23:59:59+00:00\",\n",
    "    \"limit\": 1,\n",
    "    \"zoom_level\": 14,\n",
    "  },\n",
    "    \"snap-polarimetric:1\": {\n",
    "    \"bbox\": [13.375966, 52.515068, 13.378314, 52.516639],\n",
    "    \"mask\": None,\n",
    "    \"contains\": None,\n",
    "    \"intersects\": None,\n",
    "    \"clip_to_aoi\": True,\n",
    "    \"tcorrection\": True,\n",
    "    \"linear_to_db\": True,\n",
    "    \"polarisations\": [\n",
    "        \"VV\"\n",
    "   ],\n",
    "   \"speckle_filter\": True,\n",
    "   \"calibration_band\": [\n",
    "         \"sigma\"\n",
    "   ]\n",
    "  }\n",
    "}\n",
    "\n",
    "input_parameters"
   ]
  },
  {
   "cell_type": "code",
   "execution_count": 7,
   "metadata": {},
   "outputs": [
    {
     "name": "stderr",
     "output_type": "stream",
     "text": [
      "2020-05-13 18:41:25,090 - up42.workflow - INFO - +++++++++++++++++++++++++++++++++\n",
      "2020-05-13 18:41:25,090 - up42.workflow - INFO - Running this job as Test Query...\n",
      "2020-05-13 18:41:25,091 - up42.workflow - INFO - +++++++++++++++++++++++++++++++++\n",
      "2020-05-13 18:41:25,092 - up42.workflow - INFO - Selected input_parameters: {'sobloo-s1-grd-fullscene:1': {'bbox': [13.375966, 52.515068, 13.378314, 52.516639], 'ids': None, 'time': '2018-01-01T00:00:00+00:00/2020-12-31T23:59:59+00:00', 'limit': 1, 'zoom_level': 14}, 'snap-polarimetric:1': {'bbox': [13.375966, 52.515068, 13.378314, 52.516639], 'mask': None, 'contains': None, 'intersects': None, 'clip_to_aoi': True, 'tcorrection': True, 'linear_to_db': True, 'polarisations': ['VV'], 'speckle_filter': True, 'calibration_band': ['sigma']}, 'config': {'mode': 'DRY_RUN'}}.\n",
      "2020-05-13 18:41:26,029 - up42.workflow - INFO - Created and running new job: 591e3b54-5213-4355-8ed0-4d50b6c00bbd.\n",
      "2020-05-13 18:41:26,494 - up42.job - INFO - Tracking job status continuously, reporting every 30 seconds...\n",
      "2020-05-13 18:41:43,520 - up42.job - INFO - Job finished successfully! - 591e3b54-5213-4355-8ed0-4d50b6c00bbd\n",
      "2020-05-13 18:41:49,112 - up42.job - INFO - Retrieved 1 features.\n"
     ]
    },
    {
     "name": "stdout",
     "output_type": "stream",
     "text": [
      "{'type': 'FeatureCollection', 'features': [{'type': 'Feature', 'bbox': [12.307579, 52.168606, 16.666708, 54.078041], 'id': 'd703f8ee-c090-4241-bba0-89e7c701d02c', 'geometry': {'type': 'Polygon', 'coordinates': [[[16.152637, 52.168606], [16.666708, 53.660168], [12.686941, 54.078041], [12.307579, 52.583508], [16.152637, 52.168606]]]}, 'properties': {'attachments': [], 'visibility': {'deleted': False}, 'illumination': {}, 'production': {'levelCode': 'L1', 'ongoing': False, 'timeliness': 'Fast-24h'}, 'archive': {'offLine': False, 'filename': 'S1A_IW_GRDH_1SDV_20200513T051658_20200513T051723_032542_03C4E0_9874.SAFE', 'size': 1689, 'format': 'SAFE', 'onLine': False}, 'spatialCoverage': {'verticality': {}, 'geometry': {'geographicBoundingPolygon': {'coordinates': [[[16.152637, 52.168606], [16.666708, 53.660168], [12.686941, 54.078041], [12.307579, 52.583508], [16.152637, 52.168606]]], 'type': 'Polygon'}, 'global': False, 'centerPoint': {'lon': 14.457121960988575, 'lat': 53.12650390104146}}}, 'quality': {'qualified': False}, 'target': {}, 'timeStamp': 1589347018368, 'uid': 'd703f8ee-c090-4241-bba0-89e7c701d02c', 'identification': {'profile': 'Image', 'externalId': 'S1A_IW_GRDH_1SDV_20200513T051658_20200513T051723_032542_03C4E0_9874', 'collection': 'Sentinel-1', 'type': 'GRD', 'dataset': {}}, 'transmission': {}, 'contentDescription': {}, 'provider': {}, 'acquisition': {'endViewingDate': 1589347043366, 'mission': 'Sentinel-1', 'missionId': 'A', 'missionCode': 'S1A', 'beginViewingDate': 1589347018368, 'missionName': 'Sentinel-1A', 'polarization': 'VV VH', 'type': 'NOMINAL', 'sensorMode': 'IW', 'sensorId': 'SAR-C SAR'}, 'orbit': {'relativeNumber': 95, 'lastRelativeNumber': 95, 'lastNumber': 32542, 'direction': 'DESCENDING'}, 'state': {'resources': {'thumbnail': True, 'quicklook': True}, 'services': {'wmts': False, 'download': 'internal', 'wcs': False, 'wms': False}, 'insertionDate': 1589358540160}, 'attitude': {}}}]}\n"
     ]
    }
   ],
   "source": [
    "# Run a test job to query data availability and check the configuration.\n",
    "test_job = workflow.test_job(input_parameters=input_parameters, track_status=True)\n",
    "test_results = test_job.get_results_json()\n",
    "print(test_results)"
   ]
  },
  {
   "cell_type": "code",
   "execution_count": 8,
   "metadata": {},
   "outputs": [
    {
     "name": "stderr",
     "output_type": "stream",
     "text": [
      "2020-05-13 18:44:55,649 - up42.workflow - INFO - Selected input_parameters: {'sobloo-s1-grd-fullscene:1': {'bbox': [13.375966, 52.515068, 13.378314, 52.516639], 'ids': None, 'time': '2018-01-01T00:00:00+00:00/2020-12-31T23:59:59+00:00', 'limit': 1, 'zoom_level': 14}, 'snap-polarimetric:1': {'bbox': [13.375966, 52.515068, 13.378314, 52.516639], 'mask': None, 'contains': None, 'intersects': None, 'clip_to_aoi': True, 'tcorrection': True, 'linear_to_db': True, 'polarisations': ['VV'], 'speckle_filter': True, 'calibration_band': ['sigma']}}.\n",
      "2020-05-13 18:44:56,668 - up42.workflow - INFO - Created and running new job: a2500ebe-9063-44f4-b6ea-93d9f2a7269e.\n",
      "2020-05-13 18:44:57,151 - up42.job - INFO - Tracking job status continuously, reporting every 30 seconds...\n",
      "2020-05-13 18:45:30,571 - up42.job - INFO - Job is RUNNING! - a2500ebe-9063-44f4-b6ea-93d9f2a7269e\n",
      "2020-05-13 18:46:03,512 - up42.job - INFO - Job is RUNNING! - a2500ebe-9063-44f4-b6ea-93d9f2a7269e\n",
      "2020-05-13 18:46:36,468 - up42.job - INFO - Job is RUNNING! - a2500ebe-9063-44f4-b6ea-93d9f2a7269e\n",
      "2020-05-13 18:47:09,451 - up42.job - INFO - Job is RUNNING! - a2500ebe-9063-44f4-b6ea-93d9f2a7269e\n",
      "2020-05-13 18:47:42,408 - up42.job - INFO - Job is RUNNING! - a2500ebe-9063-44f4-b6ea-93d9f2a7269e\n",
      "2020-05-13 18:48:15,364 - up42.job - INFO - Job is RUNNING! - a2500ebe-9063-44f4-b6ea-93d9f2a7269e\n",
      "2020-05-13 18:48:48,311 - up42.job - INFO - Job is RUNNING! - a2500ebe-9063-44f4-b6ea-93d9f2a7269e\n",
      "2020-05-13 18:49:21,301 - up42.job - INFO - Job is RUNNING! - a2500ebe-9063-44f4-b6ea-93d9f2a7269e\n",
      "2020-05-13 18:49:54,223 - up42.job - INFO - Job is RUNNING! - a2500ebe-9063-44f4-b6ea-93d9f2a7269e\n",
      "2020-05-13 18:50:27,359 - up42.job - INFO - Job is RUNNING! - a2500ebe-9063-44f4-b6ea-93d9f2a7269e\n",
      "2020-05-13 18:51:00,506 - up42.job - INFO - Job is RUNNING! - a2500ebe-9063-44f4-b6ea-93d9f2a7269e\n",
      "2020-05-13 18:51:33,453 - up42.job - INFO - Job is RUNNING! - a2500ebe-9063-44f4-b6ea-93d9f2a7269e\n",
      "2020-05-13 18:52:06,377 - up42.job - INFO - Job is RUNNING! - a2500ebe-9063-44f4-b6ea-93d9f2a7269e\n",
      "2020-05-13 18:52:39,314 - up42.job - INFO - Job is RUNNING! - a2500ebe-9063-44f4-b6ea-93d9f2a7269e\n",
      "2020-05-13 18:52:55,789 - up42.job - INFO - Job finished successfully! - a2500ebe-9063-44f4-b6ea-93d9f2a7269e\n"
     ]
    }
   ],
   "source": [
    "# Run the actual job.\n",
    "job = workflow.run_job(input_parameters=input_parameters, track_status=True)"
   ]
  },
  {
   "cell_type": "code",
   "execution_count": 9,
   "metadata": {},
   "outputs": [
    {
     "name": "stderr",
     "output_type": "stream",
     "text": [
      "2020-05-13 18:55:46,981 - up42.job - INFO - Downloading results of job a2500ebe-9063-44f4-b6ea-93d9f2a7269e\n",
      "2020-05-13 18:55:46,983 - up42.job - INFO - Download directory: /Users/thais.bendixen/Projects/up42-py/examples/project_83401f4f-f0f0-441f-92ae-a8b7ac5ce0b1/job_a2500ebe-9063-44f4-b6ea-93d9f2a7269e\n",
      "8it [00:00, 24456.58it/s]\n",
      "2020-05-13 18:55:48,029 - up42.utils - INFO - Download successful of 2 files to output_directory '/Users/thais.bendixen/Projects/up42-py/examples/project_83401f4f-f0f0-441f-92ae-a8b7ac5ce0b1/job_a2500ebe-9063-44f4-b6ea-93d9f2a7269e': ['d703f8ee-c090-4241-bba0-89e7c701d02c.tif', 'data.json']\n"
     ]
    },
    {
     "data": {
      "image/png": "[encoded data removed]",
      "text/plain": [
       "<Figure size 576x576 with 1 Axes>"
      ]
     },
     "metadata": {
      "needs_background": "light"
     },
     "output_type": "display_data"
    }
   ],
   "source": [
    "job.download_results()\n",
    "job.plot_results()"
   ]
  },
  {
   "cell_type": "code",
   "execution_count": null,
   "metadata": {},
   "outputs": [],
   "source": [
    "\n"
   ]
  },
  {
   "cell_type": "code",
   "execution_count": null,
   "metadata": {},
   "outputs": [],
   "source": []
  }
 ],
 "metadata": {
  "kernelspec": {
   "display_name": "Python 3",
   "language": "python",
   "name": "python3"
  },
  "language_info": {
   "codemirror_mode": {
    "name": "ipython",
    "version": 3
   },
   "file_extension": ".py",
   "mimetype": "text/x-python",
   "name": "python",
   "nbconvert_exporter": "python",
   "pygments_lexer": "ipython3",
   "version": "3.7.7"
  }
 },
 "nbformat": 4,
 "nbformat_minor": 4
}
